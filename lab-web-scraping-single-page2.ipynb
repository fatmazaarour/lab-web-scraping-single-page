{
 "cells": [
  {
   "cell_type": "code",
   "execution_count": 1,
   "id": "ee135c80",
   "metadata": {},
   "outputs": [],
   "source": [
    "def search_song (url):\n",
    "    from bs4 import BeautifulSoup\n",
    "    import requests\n",
    "    import pandas as pd\n",
    "    import numpy as np\n",
    "    \n",
    "    titles = []\n",
    "    artists = []\n",
    "    "
   ]
  },
  {
   "cell_type": "code",
   "execution_count": 2,
   "id": "93ed055c",
   "metadata": {},
   "outputs": [],
   "source": [
    "import numpy as np"
   ]
  },
  {
   "cell_type": "code",
   "execution_count": 3,
   "id": "e0a703d5",
   "metadata": {},
   "outputs": [],
   "source": [
    "import pandas as pd"
   ]
  },
  {
   "cell_type": "code",
   "execution_count": 4,
   "id": "6f04965e",
   "metadata": {},
   "outputs": [],
   "source": [
    "data = pd.read_csv('billboard100.csv')"
   ]
  },
  {
   "cell_type": "code",
   "execution_count": 5,
   "id": "9394c7f1",
   "metadata": {},
   "outputs": [
    {
     "data": {
      "text/html": [
       "<div>\n",
       "<style scoped>\n",
       "    .dataframe tbody tr th:only-of-type {\n",
       "        vertical-align: middle;\n",
       "    }\n",
       "\n",
       "    .dataframe tbody tr th {\n",
       "        vertical-align: top;\n",
       "    }\n",
       "\n",
       "    .dataframe thead th {\n",
       "        text-align: right;\n",
       "    }\n",
       "</style>\n",
       "<table border=\"1\" class=\"dataframe\">\n",
       "  <thead>\n",
       "    <tr style=\"text-align: right;\">\n",
       "      <th></th>\n",
       "      <th>Unnamed: 0</th>\n",
       "      <th>title</th>\n",
       "      <th>author</th>\n",
       "    </tr>\n",
       "  </thead>\n",
       "  <tbody>\n",
       "    <tr>\n",
       "      <th>0</th>\n",
       "      <td>0</td>\n",
       "      <td>As It Was</td>\n",
       "      <td>Harry Styles</td>\n",
       "    </tr>\n",
       "    <tr>\n",
       "      <th>1</th>\n",
       "      <td>1</td>\n",
       "      <td>First Class</td>\n",
       "      <td>Jack Harlow</td>\n",
       "    </tr>\n",
       "    <tr>\n",
       "      <th>2</th>\n",
       "      <td>2</td>\n",
       "      <td>Wait For U</td>\n",
       "      <td>Future Featuring Drake &amp; Tems</td>\n",
       "    </tr>\n",
       "    <tr>\n",
       "      <th>3</th>\n",
       "      <td>3</td>\n",
       "      <td>About Damn Time</td>\n",
       "      <td>Lizzo</td>\n",
       "    </tr>\n",
       "    <tr>\n",
       "      <th>4</th>\n",
       "      <td>4</td>\n",
       "      <td>Heat Waves</td>\n",
       "      <td>Glass Animals</td>\n",
       "    </tr>\n",
       "  </tbody>\n",
       "</table>\n",
       "</div>"
      ],
      "text/plain": [
       "   Unnamed: 0            title                         author\n",
       "0           0        As It Was                   Harry Styles\n",
       "1           1      First Class                    Jack Harlow\n",
       "2           2       Wait For U  Future Featuring Drake & Tems\n",
       "3           3  About Damn Time                          Lizzo\n",
       "4           4       Heat Waves                  Glass Animals"
      ]
     },
     "execution_count": 5,
     "metadata": {},
     "output_type": "execute_result"
    }
   ],
   "source": [
    "data.head()"
   ]
  },
  {
   "cell_type": "code",
   "execution_count": 6,
   "id": "a440aefd",
   "metadata": {},
   "outputs": [],
   "source": [
    "#data.reset_index(drop=True, inplace=True)\n",
    "#data"
   ]
  },
  {
   "cell_type": "code",
   "execution_count": 7,
   "id": "e8371590",
   "metadata": {},
   "outputs": [],
   "source": [
    "import spotipy\n",
    "import json\n",
    "from spotipy.oauth2 import SpotifyClientCredentials"
   ]
  },
  {
   "cell_type": "code",
   "execution_count": 8,
   "id": "f8bbf833",
   "metadata": {},
   "outputs": [],
   "source": [
    "sp = spotipy.Spotify(auth_manager=SpotifyClientCredentials(client_id= \"ClientID\",\n",
    "                                                           client_secret= \"ClientSecret\"))\n"
   ]
  },
  {
   "cell_type": "code",
   "execution_count": 9,
   "id": "a409c588",
   "metadata": {},
   "outputs": [],
   "source": [
    "sp = spotipy.Spotify(auth_manager=SpotifyClientCredentials(client_id= \"daaebda73ad34ea1a37f0de6906c31a6\",\n",
    "                                                           client_secret= \"3b22e823bdc0451d8e9e004af4cb6faa\"))"
   ]
  },
  {
   "cell_type": "code",
   "execution_count": 10,
   "id": "6afa2c78",
   "metadata": {},
   "outputs": [],
   "source": [
    "#def search_song():\n",
    "   # title = []\n",
    "   # author = []\n",
    "   # song_ids = []\n",
    "  #  for song in data:\n",
    "      #  results2 = sp.search(q=\"author\" +\" title\",limit=1)\n",
    "      #  song_id = results2['tracks']['items'][0]['id']\n",
    "      #  song_id = results2['tracks']['items']\n",
    "       # song_ids.append(song_id)\n",
    "       # print(\"The name of song is: '{}' and the id is: {}\".format(item['name'],item['external_urls']['spotify']))\n",
    "   # return song_ids"
   ]
  },
  {
   "cell_type": "code",
   "execution_count": 11,
   "id": "1d1b2443",
   "metadata": {},
   "outputs": [],
   "source": [
    "#search_song()"
   ]
  },
  {
   "cell_type": "code",
   "execution_count": 12,
   "id": "a3ab49e0",
   "metadata": {},
   "outputs": [],
   "source": [
    "#results = sp.search(q='Harry Styles', limit=1)"
   ]
  },
  {
   "cell_type": "code",
   "execution_count": 13,
   "id": "89919b84",
   "metadata": {},
   "outputs": [],
   "source": [
    "#results['tracks']['items'][0]['album'].keys()"
   ]
  },
  {
   "cell_type": "code",
   "execution_count": 14,
   "id": "aa7ee38a",
   "metadata": {},
   "outputs": [],
   "source": [
    "#results['tracks']['items'][0]['id']"
   ]
  },
  {
   "cell_type": "code",
   "execution_count": 15,
   "id": "53ee79a5",
   "metadata": {},
   "outputs": [],
   "source": [
    "#for item in results['tracks']['items']:\n",
    "   # print(\"The name of song is: '{}' and the id is: {}\".format(item['name'],item['external_urls']['spotify']))"
   ]
  },
  {
   "cell_type": "code",
   "execution_count": 16,
   "id": "8efab128",
   "metadata": {},
   "outputs": [
    {
     "data": {
      "text/plain": [
       "[0, 1, 2, 3, 4, 5, 6, 7, 8, 9]"
      ]
     },
     "execution_count": 16,
     "metadata": {},
     "output_type": "execute_result"
    }
   ],
   "source": [
    "list(range(100))[0:10]"
   ]
  },
  {
   "cell_type": "code",
   "execution_count": 17,
   "id": "4a736a94",
   "metadata": {},
   "outputs": [
    {
     "data": {
      "text/plain": [
       "[10, 11, 12, 13, 14, 15, 16, 17, 18, 19]"
      ]
     },
     "execution_count": 17,
     "metadata": {},
     "output_type": "execute_result"
    }
   ],
   "source": [
    "list(range(100))[10:20]"
   ]
  },
  {
   "cell_type": "code",
   "execution_count": 18,
   "id": "a6bfb251",
   "metadata": {},
   "outputs": [
    {
     "data": {
      "text/plain": [
       "[20, 21, 22, 23, 24, 25, 26, 27, 28, 29]"
      ]
     },
     "execution_count": 18,
     "metadata": {},
     "output_type": "execute_result"
    }
   ],
   "source": [
    "list(range(100))[20:30]"
   ]
  },
  {
   "cell_type": "code",
   "execution_count": null,
   "id": "251c6ac4",
   "metadata": {},
   "outputs": [],
   "source": [
    "list(range(0,100,20))"
   ]
  },
  {
   "cell_type": "code",
   "execution_count": null,
   "id": "4614c05e",
   "metadata": {
    "scrolled": true
   },
   "outputs": [],
   "source": [
    "data.head()"
   ]
  },
  {
   "cell_type": "code",
   "execution_count": null,
   "id": "66468317",
   "metadata": {
    "scrolled": true
   },
   "outputs": [],
   "source": [
    "\"track:\"+\"As it Was\"+\"artist:\"+\"Harry Styles\""
   ]
  },
  {
   "cell_type": "code",
   "execution_count": 20,
   "id": "f9f5c0d1",
   "metadata": {},
   "outputs": [],
   "source": [
    "from time import sleep"
   ]
  },
  {
   "cell_type": "code",
   "execution_count": 21,
   "id": "2532a149",
   "metadata": {},
   "outputs": [],
   "source": [
    "def search_song_ids(df, stepsize=20):\n",
    "    \n",
    "    song_ids = []\n",
    "    for number in range(0,len(df),stepsize):\n",
    "        print(\"Getting the song ids for the chunk:\",number)\n",
    "        print()\n",
    "        for index in list(range(len(df)))[number:number+stepsize]:\n",
    "            author = df.iloc[index,2]\n",
    "            title = df.iloc[index,1]\n",
    "            try:\n",
    "                results = sp.search(q=\"track:\"+title+\" artist:\"+author,limit=1)\n",
    "                song_id = results['tracks']['items'][0]['id']\n",
    "                song_ids.append(song_id)\n",
    "            except:\n",
    "                print(\"The song: {} of artist: {} is not on Spotify\".format(title, author))\n",
    "                song_ids.append(np.nan)\n",
    "        sleep(20)\n",
    "        print()\n",
    "        print()\n",
    "    \n",
    "    return song_ids"
   ]
  },
  {
   "cell_type": "code",
   "execution_count": 22,
   "id": "3a6dcbfa",
   "metadata": {},
   "outputs": [
    {
     "name": "stdout",
     "output_type": "stream",
     "text": [
      "Getting the song ids for the chunk: 0\n",
      "\n",
      "The song: Wait For U of artist: Future Featuring Drake & Tems is not on Spotify\n",
      "The song: Me Porto Bonito of artist: Bad Bunny & Chencho Corleone is not on Spotify\n",
      "The song: Stay of artist: The Kid LAROI & Justin Bieber is not on Spotify\n",
      "The song: Enemy of artist: Imagine Dragons X JID is not on Spotify\n",
      "\n",
      "\n",
      "Getting the song ids for the chunk: 20\n",
      "\n",
      "The song: True Love of artist: Kanye West & XXXTENTACION is not on Spotify\n",
      "The song: Sweetest Pie of artist: Megan Thee Stallion & Dua Lipa is not on Spotify\n",
      "The song: Party of artist: Bad Bunny & Rauw Alejandro is not on Spotify\n",
      "The song: Bam Bam of artist: Camila Cabello Featuring Ed Sheeran is not on Spotify\n",
      "The song: MAMIII of artist: Becky G X Karol G is not on Spotify\n",
      "The song: Ojitos Lindos of artist: Bad Bunny & Bomba Estereo is not on Spotify\n",
      "The song: Cooped Up of artist: Post Malone Featuring Roddy Ricch is not on Spotify\n",
      "\n",
      "\n",
      "Getting the song ids for the chunk: 40\n",
      "\n",
      "The song: Sleazy Flow of artist: SleazyWorld Go Featuring Lil Baby is not on Spotify\n",
      "The song: 2step of artist: Ed Sheeran Featuring Lil Baby is not on Spotify\n",
      "The song: Die Young of artist: Sleepy Hallow Featuring 347aidan is not on Spotify\n",
      "\n",
      "\n",
      "Getting the song ids for the chunk: 60\n",
      "\n",
      "The song: Tarot of artist: Bad Bunny & Jhay Cortez is not on Spotify\n",
      "The song: What Happened To Virgil of artist: Lil Durk Featuring Gunna is not on Spotify\n",
      "The song: Never Say Never of artist: Cole Swindell / Lainey Wilson is not on Spotify\n",
      "The song: Freaky Deaky of artist: Tyga X Doja Cat is not on Spotify\n",
      "The song: Flower Shops of artist: ERNEST Featuring Morgan Wallen is not on Spotify\n",
      "The song: She Likes It of artist: Russell Dickerson & Jake Scott is not on Spotify\n",
      "\n",
      "\n",
      "Getting the song ids for the chunk: 80\n",
      "\n",
      "The song: La Corriente of artist: Bad Bunny & Tony Dize is not on Spotify\n",
      "The song: Sunroof of artist: Nicky Youre & dazy is not on Spotify\n",
      "The song: F.N.F. (Let's Go) of artist: Hitkidd & Glorilla is not on Spotify\n",
      "The song: Handsomer of artist: Russ Featuring Ktlyn is not on Spotify\n",
      "The song: I'm On One of artist: Future Featuring Drake is not on Spotify\n",
      "\n",
      "\n"
     ]
    }
   ],
   "source": [
    "songs_ids = search_song_ids(data)"
   ]
  },
  {
   "cell_type": "code",
   "execution_count": null,
   "id": "a4784d5f",
   "metadata": {},
   "outputs": [],
   "source": [
    "#songs_ids = search_song_ids(data)"
   ]
  },
  {
   "cell_type": "code",
   "execution_count": null,
   "id": "5066fa09",
   "metadata": {},
   "outputs": [],
   "source": [
    "#songs= pd.DataFrame(songs_ids)\n",
    "#display (songs)"
   ]
  },
  {
   "cell_type": "code",
   "execution_count": null,
   "id": "37b36207",
   "metadata": {},
   "outputs": [],
   "source": [
    "#data2= data.assign(songs_ids)"
   ]
  },
  {
   "cell_type": "code",
   "execution_count": null,
   "id": "f572ab05",
   "metadata": {},
   "outputs": [],
   "source": [
    "#data2= data.insert(loc=1, column= \"songs_ids\")"
   ]
  },
  {
   "cell_type": "code",
   "execution_count": null,
   "id": "3e02b253",
   "metadata": {},
   "outputs": [],
   "source": [
    "#songs_ids= data[\"songs_ids\"]"
   ]
  },
  {
   "cell_type": "code",
   "execution_count": null,
   "id": "84cb2125",
   "metadata": {},
   "outputs": [],
   "source": [
    "#data[songs_ids]= songs_ids"
   ]
  },
  {
   "cell_type": "code",
   "execution_count": null,
   "id": "26f73fa2",
   "metadata": {},
   "outputs": [],
   "source": [
    "#data[songs_ids].head()"
   ]
  },
  {
   "cell_type": "code",
   "execution_count": null,
   "id": "72cc0baa",
   "metadata": {},
   "outputs": [],
   "source": [
    "#data.head()"
   ]
  },
  {
   "cell_type": "code",
   "execution_count": null,
   "id": "abd22c30",
   "metadata": {},
   "outputs": [],
   "source": []
  },
  {
   "cell_type": "code",
   "execution_count": null,
   "id": "2b9a5c52",
   "metadata": {},
   "outputs": [],
   "source": [
    "#result = pd.concat(data, songs)\n",
    "#display (result)"
   ]
  },
  {
   "cell_type": "code",
   "execution_count": null,
   "id": "0c106ab9",
   "metadata": {},
   "outputs": [],
   "source": [
    "#df3 = pd.concat([data, songs], ignore_index=True)"
   ]
  },
  {
   "cell_type": "code",
   "execution_count": null,
   "id": "1fbb0c12",
   "metadata": {},
   "outputs": [],
   "source": [
    "#display(df3)"
   ]
  },
  {
   "cell_type": "code",
   "execution_count": 23,
   "id": "756d82bf",
   "metadata": {},
   "outputs": [],
   "source": [
    "data.insert(loc=0, column='song_id', value=songs_ids)\n",
    "\n"
   ]
  },
  {
   "cell_type": "code",
   "execution_count": 24,
   "id": "b98707fe",
   "metadata": {},
   "outputs": [
    {
     "data": {
      "text/html": [
       "<div>\n",
       "<style scoped>\n",
       "    .dataframe tbody tr th:only-of-type {\n",
       "        vertical-align: middle;\n",
       "    }\n",
       "\n",
       "    .dataframe tbody tr th {\n",
       "        vertical-align: top;\n",
       "    }\n",
       "\n",
       "    .dataframe thead th {\n",
       "        text-align: right;\n",
       "    }\n",
       "</style>\n",
       "<table border=\"1\" class=\"dataframe\">\n",
       "  <thead>\n",
       "    <tr style=\"text-align: right;\">\n",
       "      <th></th>\n",
       "      <th>song_id</th>\n",
       "      <th>Unnamed: 0</th>\n",
       "      <th>title</th>\n",
       "      <th>author</th>\n",
       "    </tr>\n",
       "  </thead>\n",
       "  <tbody>\n",
       "    <tr>\n",
       "      <th>0</th>\n",
       "      <td>4LRPiXqCikLlN15c3yImP7</td>\n",
       "      <td>0</td>\n",
       "      <td>As It Was</td>\n",
       "      <td>Harry Styles</td>\n",
       "    </tr>\n",
       "    <tr>\n",
       "      <th>1</th>\n",
       "      <td>1rDQ4oMwGJI7B4tovsBOxc</td>\n",
       "      <td>1</td>\n",
       "      <td>First Class</td>\n",
       "      <td>Jack Harlow</td>\n",
       "    </tr>\n",
       "    <tr>\n",
       "      <th>2</th>\n",
       "      <td>NaN</td>\n",
       "      <td>2</td>\n",
       "      <td>Wait For U</td>\n",
       "      <td>Future Featuring Drake &amp; Tems</td>\n",
       "    </tr>\n",
       "    <tr>\n",
       "      <th>3</th>\n",
       "      <td>1PckUlxKqWQs3RlWXVBLw3</td>\n",
       "      <td>3</td>\n",
       "      <td>About Damn Time</td>\n",
       "      <td>Lizzo</td>\n",
       "    </tr>\n",
       "    <tr>\n",
       "      <th>4</th>\n",
       "      <td>3USxtqRwSYz57Ewm6wWRMp</td>\n",
       "      <td>4</td>\n",
       "      <td>Heat Waves</td>\n",
       "      <td>Glass Animals</td>\n",
       "    </tr>\n",
       "  </tbody>\n",
       "</table>\n",
       "</div>"
      ],
      "text/plain": [
       "                  song_id  Unnamed: 0            title  \\\n",
       "0  4LRPiXqCikLlN15c3yImP7           0        As It Was   \n",
       "1  1rDQ4oMwGJI7B4tovsBOxc           1      First Class   \n",
       "2                     NaN           2       Wait For U   \n",
       "3  1PckUlxKqWQs3RlWXVBLw3           3  About Damn Time   \n",
       "4  3USxtqRwSYz57Ewm6wWRMp           4       Heat Waves   \n",
       "\n",
       "                          author  \n",
       "0                   Harry Styles  \n",
       "1                    Jack Harlow  \n",
       "2  Future Featuring Drake & Tems  \n",
       "3                          Lizzo  \n",
       "4                  Glass Animals  "
      ]
     },
     "execution_count": 24,
     "metadata": {},
     "output_type": "execute_result"
    }
   ],
   "source": [
    "data.head()"
   ]
  },
  {
   "cell_type": "code",
   "execution_count": null,
   "id": "c55462cf",
   "metadata": {},
   "outputs": [],
   "source": [
    "#results[\"tracks\"][\"items\"][0]['name']"
   ]
  },
  {
   "cell_type": "code",
   "execution_count": null,
   "id": "5fa07edc",
   "metadata": {},
   "outputs": [],
   "source": [
    "#Q2\n",
    "#Create a function \"get_audio_features(list_of_songs)\""
   ]
  },
  {
   "cell_type": "code",
   "execution_count": null,
   "id": "6f2f0fa3",
   "metadata": {},
   "outputs": [],
   "source": [
    "#song_features_df = song_features_df.rename(columns= {0:'features'})"
   ]
  },
  {
   "cell_type": "code",
   "execution_count": null,
   "id": "21bd147c",
   "metadata": {},
   "outputs": [],
   "source": [
    "#data['song_id'][0]"
   ]
  },
  {
   "cell_type": "code",
   "execution_count": null,
   "id": "be60b472",
   "metadata": {},
   "outputs": [],
   "source": [
    "#.audio_features([URL|URI|ID])"
   ]
  },
  {
   "cell_type": "code",
   "execution_count": null,
   "id": "345b5b56",
   "metadata": {},
   "outputs": [],
   "source": []
  },
  {
   "cell_type": "code",
   "execution_count": 33,
   "id": "c16b4a7a",
   "metadata": {},
   "outputs": [],
   "source": [
    "def get_audio_features(df, stepsize=20):\n",
    "    #song_features = []\n",
    "    for number in range(0,len(df),stepsize):\n",
    "        print(\"Getting the features for the chunk:\",number)\n",
    "        print()\n",
    "        for index in list(range(len(df)))[number:number+stepsize]:\n",
    "            song_id = df.iloc[index,0]\n",
    "            try:\n",
    "                result= sp.audio_features(song_id)[0]\n",
    "                my_dict = sp.audio_features(song_id)[0]\n",
    "                print(my_dict)\n",
    "                song_features = { key : [my_dict[key]] for key in list(my_dict.keys()) }\n",
    "                print(song_features)\n",
    "            except:\n",
    "                print(\"These features are not in spotify\")\n",
    "                song_features = { key : [Nan] for key in list(my_dict.keys()) }\n",
    "        sleep(20)\n",
    "        print()\n",
    "        print()\n",
    "        #return song_features"
   ]
  },
  {
   "cell_type": "code",
   "execution_count": 34,
   "id": "5de6bc7c",
   "metadata": {},
   "outputs": [
    {
     "name": "stdout",
     "output_type": "stream",
     "text": [
      "Getting the features for the chunk: 0\n",
      "\n",
      "These features are not in spotify\n"
     ]
    },
    {
     "ename": "UnboundLocalError",
     "evalue": "local variable 'my_dict' referenced before assignment",
     "output_type": "error",
     "traceback": [
      "\u001b[1;31m---------------------------------------------------------------------------\u001b[0m",
      "\u001b[1;31mTypeError\u001b[0m                                 Traceback (most recent call last)",
      "\u001b[1;32m~\\AppData\\Local\\Temp/ipykernel_44516/1675468013.py\u001b[0m in \u001b[0;36mget_audio_features\u001b[1;34m(df, stepsize)\u001b[0m\n\u001b[0;32m      8\u001b[0m             \u001b[1;32mtry\u001b[0m\u001b[1;33m:\u001b[0m\u001b[1;33m\u001b[0m\u001b[1;33m\u001b[0m\u001b[0m\n\u001b[1;32m----> 9\u001b[1;33m                 \u001b[0mresult\u001b[0m\u001b[1;33m=\u001b[0m \u001b[0msp\u001b[0m\u001b[1;33m.\u001b[0m\u001b[0maudio_features\u001b[0m\u001b[1;33m(\u001b[0m\u001b[0msong_id\u001b[0m\u001b[1;33m)\u001b[0m\u001b[1;33m[\u001b[0m\u001b[1;36m0\u001b[0m\u001b[1;33m]\u001b[0m\u001b[1;33m\u001b[0m\u001b[1;33m\u001b[0m\u001b[0m\n\u001b[0m\u001b[0;32m     10\u001b[0m                 \u001b[0mmy_dict\u001b[0m \u001b[1;33m=\u001b[0m \u001b[0msp\u001b[0m\u001b[1;33m.\u001b[0m\u001b[0maudio_features\u001b[0m\u001b[1;33m(\u001b[0m\u001b[0msong_id\u001b[0m\u001b[1;33m)\u001b[0m\u001b[1;33m[\u001b[0m\u001b[1;36m0\u001b[0m\u001b[1;33m]\u001b[0m\u001b[1;33m\u001b[0m\u001b[1;33m\u001b[0m\u001b[0m\n",
      "\u001b[1;32m~\\anaconda3\\lib\\site-packages\\spotipy\\client.py\u001b[0m in \u001b[0;36maudio_features\u001b[1;34m(self, tracks)\u001b[0m\n\u001b[0;32m   1681\u001b[0m         \u001b[1;32melse\u001b[0m\u001b[1;33m:\u001b[0m\u001b[1;33m\u001b[0m\u001b[1;33m\u001b[0m\u001b[0m\n\u001b[1;32m-> 1682\u001b[1;33m             \u001b[0mtlist\u001b[0m \u001b[1;33m=\u001b[0m \u001b[1;33m[\u001b[0m\u001b[0mself\u001b[0m\u001b[1;33m.\u001b[0m\u001b[0m_get_id\u001b[0m\u001b[1;33m(\u001b[0m\u001b[1;34m\"track\"\u001b[0m\u001b[1;33m,\u001b[0m \u001b[0mt\u001b[0m\u001b[1;33m)\u001b[0m \u001b[1;32mfor\u001b[0m \u001b[0mt\u001b[0m \u001b[1;32min\u001b[0m \u001b[0mtracks\u001b[0m\u001b[1;33m]\u001b[0m\u001b[1;33m\u001b[0m\u001b[1;33m\u001b[0m\u001b[0m\n\u001b[0m\u001b[0;32m   1683\u001b[0m             \u001b[0mresults\u001b[0m \u001b[1;33m=\u001b[0m \u001b[0mself\u001b[0m\u001b[1;33m.\u001b[0m\u001b[0m_get\u001b[0m\u001b[1;33m(\u001b[0m\u001b[1;34m\"audio-features/?ids=\"\u001b[0m \u001b[1;33m+\u001b[0m \u001b[1;34m\",\"\u001b[0m\u001b[1;33m.\u001b[0m\u001b[0mjoin\u001b[0m\u001b[1;33m(\u001b[0m\u001b[0mtlist\u001b[0m\u001b[1;33m)\u001b[0m\u001b[1;33m)\u001b[0m\u001b[1;33m\u001b[0m\u001b[1;33m\u001b[0m\u001b[0m\n",
      "\u001b[1;31mTypeError\u001b[0m: 'NoneType' object is not iterable",
      "\nDuring handling of the above exception, another exception occurred:\n",
      "\u001b[1;31mUnboundLocalError\u001b[0m                         Traceback (most recent call last)",
      "\u001b[1;32m~\\AppData\\Local\\Temp/ipykernel_44516/3063017514.py\u001b[0m in \u001b[0;36m<module>\u001b[1;34m\u001b[0m\n\u001b[1;32m----> 1\u001b[1;33m \u001b[0mfeatures\u001b[0m \u001b[1;33m=\u001b[0m  \u001b[0mget_audio_features\u001b[0m\u001b[1;33m(\u001b[0m\u001b[0mdata\u001b[0m\u001b[1;33m)\u001b[0m\u001b[1;33m\u001b[0m\u001b[1;33m\u001b[0m\u001b[0m\n\u001b[0m",
      "\u001b[1;32m~\\AppData\\Local\\Temp/ipykernel_44516/1675468013.py\u001b[0m in \u001b[0;36mget_audio_features\u001b[1;34m(df, stepsize)\u001b[0m\n\u001b[0;32m     14\u001b[0m             \u001b[1;32mexcept\u001b[0m\u001b[1;33m:\u001b[0m\u001b[1;33m\u001b[0m\u001b[1;33m\u001b[0m\u001b[0m\n\u001b[0;32m     15\u001b[0m                 \u001b[0mprint\u001b[0m\u001b[1;33m(\u001b[0m\u001b[1;34m\"These features are not in spotify\"\u001b[0m\u001b[1;33m)\u001b[0m\u001b[1;33m\u001b[0m\u001b[1;33m\u001b[0m\u001b[0m\n\u001b[1;32m---> 16\u001b[1;33m                 \u001b[0msong_features\u001b[0m \u001b[1;33m=\u001b[0m \u001b[1;33m{\u001b[0m \u001b[0mkey\u001b[0m \u001b[1;33m:\u001b[0m \u001b[1;33m[\u001b[0m\u001b[0mNan\u001b[0m\u001b[1;33m]\u001b[0m \u001b[1;32mfor\u001b[0m \u001b[0mkey\u001b[0m \u001b[1;32min\u001b[0m \u001b[0mlist\u001b[0m\u001b[1;33m(\u001b[0m\u001b[0mmy_dict\u001b[0m\u001b[1;33m.\u001b[0m\u001b[0mkeys\u001b[0m\u001b[1;33m(\u001b[0m\u001b[1;33m)\u001b[0m\u001b[1;33m)\u001b[0m \u001b[1;33m}\u001b[0m\u001b[1;33m\u001b[0m\u001b[1;33m\u001b[0m\u001b[0m\n\u001b[0m\u001b[0;32m     17\u001b[0m         \u001b[0msleep\u001b[0m\u001b[1;33m(\u001b[0m\u001b[1;36m20\u001b[0m\u001b[1;33m)\u001b[0m\u001b[1;33m\u001b[0m\u001b[1;33m\u001b[0m\u001b[0m\n\u001b[0;32m     18\u001b[0m         \u001b[0mprint\u001b[0m\u001b[1;33m(\u001b[0m\u001b[1;33m)\u001b[0m\u001b[1;33m\u001b[0m\u001b[1;33m\u001b[0m\u001b[0m\n",
      "\u001b[1;31mUnboundLocalError\u001b[0m: local variable 'my_dict' referenced before assignment"
     ]
    }
   ],
   "source": [
    "features =  get_audio_features(data)"
   ]
  },
  {
   "cell_type": "code",
   "execution_count": 28,
   "id": "7164dcc4",
   "metadata": {},
   "outputs": [
    {
     "data": {
      "text/plain": [
       "None"
      ]
     },
     "metadata": {},
     "output_type": "display_data"
    }
   ],
   "source": [
    "data4= pd.DataFrame(features)\n",
    "display (features)"
   ]
  },
  {
   "cell_type": "code",
   "execution_count": 29,
   "id": "2902d6c0",
   "metadata": {},
   "outputs": [],
   "source": [
    "data.insert(loc=0, column='features', value=features)\n"
   ]
  },
  {
   "cell_type": "code",
   "execution_count": 30,
   "id": "9e71f252",
   "metadata": {},
   "outputs": [
    {
     "data": {
      "text/html": [
       "<div>\n",
       "<style scoped>\n",
       "    .dataframe tbody tr th:only-of-type {\n",
       "        vertical-align: middle;\n",
       "    }\n",
       "\n",
       "    .dataframe tbody tr th {\n",
       "        vertical-align: top;\n",
       "    }\n",
       "\n",
       "    .dataframe thead th {\n",
       "        text-align: right;\n",
       "    }\n",
       "</style>\n",
       "<table border=\"1\" class=\"dataframe\">\n",
       "  <thead>\n",
       "    <tr style=\"text-align: right;\">\n",
       "      <th></th>\n",
       "      <th>features</th>\n",
       "      <th>song_id</th>\n",
       "      <th>Unnamed: 0</th>\n",
       "      <th>title</th>\n",
       "      <th>author</th>\n",
       "    </tr>\n",
       "  </thead>\n",
       "  <tbody>\n",
       "    <tr>\n",
       "      <th>0</th>\n",
       "      <td>None</td>\n",
       "      <td>4LRPiXqCikLlN15c3yImP7</td>\n",
       "      <td>0</td>\n",
       "      <td>As It Was</td>\n",
       "      <td>Harry Styles</td>\n",
       "    </tr>\n",
       "    <tr>\n",
       "      <th>1</th>\n",
       "      <td>None</td>\n",
       "      <td>1rDQ4oMwGJI7B4tovsBOxc</td>\n",
       "      <td>1</td>\n",
       "      <td>First Class</td>\n",
       "      <td>Jack Harlow</td>\n",
       "    </tr>\n",
       "    <tr>\n",
       "      <th>2</th>\n",
       "      <td>None</td>\n",
       "      <td>NaN</td>\n",
       "      <td>2</td>\n",
       "      <td>Wait For U</td>\n",
       "      <td>Future Featuring Drake &amp; Tems</td>\n",
       "    </tr>\n",
       "    <tr>\n",
       "      <th>3</th>\n",
       "      <td>None</td>\n",
       "      <td>1PckUlxKqWQs3RlWXVBLw3</td>\n",
       "      <td>3</td>\n",
       "      <td>About Damn Time</td>\n",
       "      <td>Lizzo</td>\n",
       "    </tr>\n",
       "    <tr>\n",
       "      <th>4</th>\n",
       "      <td>None</td>\n",
       "      <td>3USxtqRwSYz57Ewm6wWRMp</td>\n",
       "      <td>4</td>\n",
       "      <td>Heat Waves</td>\n",
       "      <td>Glass Animals</td>\n",
       "    </tr>\n",
       "    <tr>\n",
       "      <th>...</th>\n",
       "      <td>...</td>\n",
       "      <td>...</td>\n",
       "      <td>...</td>\n",
       "      <td>...</td>\n",
       "      <td>...</td>\n",
       "    </tr>\n",
       "    <tr>\n",
       "      <th>95</th>\n",
       "      <td>None</td>\n",
       "      <td>4XJRpBOG0bU3Nxnvam3FnC</td>\n",
       "      <td>95</td>\n",
       "      <td>Love You Better</td>\n",
       "      <td>Future</td>\n",
       "    </tr>\n",
       "    <tr>\n",
       "      <th>96</th>\n",
       "      <td>None</td>\n",
       "      <td>0BQpyaFrb78b9uobWNheqx</td>\n",
       "      <td>96</td>\n",
       "      <td>Wild Hearts</td>\n",
       "      <td>Keith Urban</td>\n",
       "    </tr>\n",
       "    <tr>\n",
       "      <th>97</th>\n",
       "      <td>None</td>\n",
       "      <td>3SeeaIXnrCfT88vHVCRWHl</td>\n",
       "      <td>97</td>\n",
       "      <td>Last Night Lonely</td>\n",
       "      <td>Jon Pardi</td>\n",
       "    </tr>\n",
       "    <tr>\n",
       "      <th>98</th>\n",
       "      <td>None</td>\n",
       "      <td>7A4WmJcWx6KrVRfQ2CP8e7</td>\n",
       "      <td>98</td>\n",
       "      <td>7500 OBO</td>\n",
       "      <td>Tim McGraw</td>\n",
       "    </tr>\n",
       "    <tr>\n",
       "      <th>99</th>\n",
       "      <td>None</td>\n",
       "      <td>0T5iIrXA4p5GsubkhuBIKV</td>\n",
       "      <td>99</td>\n",
       "      <td>Until I Found You</td>\n",
       "      <td>Stephen Sanchez</td>\n",
       "    </tr>\n",
       "  </tbody>\n",
       "</table>\n",
       "<p>100 rows × 5 columns</p>\n",
       "</div>"
      ],
      "text/plain": [
       "   features                 song_id  Unnamed: 0              title  \\\n",
       "0      None  4LRPiXqCikLlN15c3yImP7           0          As It Was   \n",
       "1      None  1rDQ4oMwGJI7B4tovsBOxc           1        First Class   \n",
       "2      None                     NaN           2         Wait For U   \n",
       "3      None  1PckUlxKqWQs3RlWXVBLw3           3    About Damn Time   \n",
       "4      None  3USxtqRwSYz57Ewm6wWRMp           4         Heat Waves   \n",
       "..      ...                     ...         ...                ...   \n",
       "95     None  4XJRpBOG0bU3Nxnvam3FnC          95    Love You Better   \n",
       "96     None  0BQpyaFrb78b9uobWNheqx          96        Wild Hearts   \n",
       "97     None  3SeeaIXnrCfT88vHVCRWHl          97  Last Night Lonely   \n",
       "98     None  7A4WmJcWx6KrVRfQ2CP8e7          98           7500 OBO   \n",
       "99     None  0T5iIrXA4p5GsubkhuBIKV          99  Until I Found You   \n",
       "\n",
       "                           author  \n",
       "0                    Harry Styles  \n",
       "1                     Jack Harlow  \n",
       "2   Future Featuring Drake & Tems  \n",
       "3                           Lizzo  \n",
       "4                   Glass Animals  \n",
       "..                            ...  \n",
       "95                         Future  \n",
       "96                    Keith Urban  \n",
       "97                      Jon Pardi  \n",
       "98                     Tim McGraw  \n",
       "99                Stephen Sanchez  \n",
       "\n",
       "[100 rows x 5 columns]"
      ]
     },
     "metadata": {},
     "output_type": "display_data"
    }
   ],
   "source": [
    "display(data)"
   ]
  },
  {
   "cell_type": "code",
   "execution_count": null,
   "id": "a6d9171c",
   "metadata": {},
   "outputs": [],
   "source": []
  }
 ],
 "metadata": {
  "kernelspec": {
   "display_name": "Python 3 (ipykernel)",
   "language": "python",
   "name": "python3"
  },
  "language_info": {
   "codemirror_mode": {
    "name": "ipython",
    "version": 3
   },
   "file_extension": ".py",
   "mimetype": "text/x-python",
   "name": "python",
   "nbconvert_exporter": "python",
   "pygments_lexer": "ipython3",
   "version": "3.9.7"
  }
 },
 "nbformat": 4,
 "nbformat_minor": 5
}
